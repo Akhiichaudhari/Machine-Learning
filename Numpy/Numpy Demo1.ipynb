{
 "cells": [
  {
   "cell_type": "code",
   "execution_count": 1,
   "id": "8339b6d6",
   "metadata": {},
   "outputs": [],
   "source": [
    "# Numpy\n",
    "import numpy as np"
   ]
  },
  {
   "cell_type": "code",
   "execution_count": 5,
   "id": "35f1369b",
   "metadata": {},
   "outputs": [],
   "source": [
    "arr = np.array([[1,2,3],[4,5,6]])"
   ]
  },
  {
   "cell_type": "code",
   "execution_count": 7,
   "id": "05222077",
   "metadata": {},
   "outputs": [
    {
     "data": {
      "text/plain": [
       "6"
      ]
     },
     "execution_count": 7,
     "metadata": {},
     "output_type": "execute_result"
    }
   ],
   "source": [
    "arr.size"
   ]
  },
  {
   "cell_type": "code",
   "execution_count": 8,
   "id": "50051fbc",
   "metadata": {},
   "outputs": [
    {
     "data": {
      "text/plain": [
       "(2, 3)"
      ]
     },
     "execution_count": 8,
     "metadata": {},
     "output_type": "execute_result"
    }
   ],
   "source": [
    "arr.shape"
   ]
  },
  {
   "cell_type": "code",
   "execution_count": 9,
   "id": "d76b5fbc",
   "metadata": {},
   "outputs": [
    {
     "data": {
      "text/plain": [
       "array([[1, 2, 3],\n",
       "       [4, 5, 6]])"
      ]
     },
     "execution_count": 9,
     "metadata": {},
     "output_type": "execute_result"
    }
   ],
   "source": [
    "arr"
   ]
  },
  {
   "cell_type": "markdown",
   "id": "e07fb622",
   "metadata": {},
   "source": [
    "# Reshape"
   ]
  },
  {
   "cell_type": "code",
   "execution_count": 10,
   "id": "25f2bd34",
   "metadata": {},
   "outputs": [],
   "source": [
    "# it return new array\n",
    "arr = arr.reshape(3,2)"
   ]
  },
  {
   "cell_type": "code",
   "execution_count": 11,
   "id": "822e1997",
   "metadata": {},
   "outputs": [
    {
     "data": {
      "text/plain": [
       "array([[1, 2],\n",
       "       [3, 4],\n",
       "       [5, 6]])"
      ]
     },
     "execution_count": 11,
     "metadata": {},
     "output_type": "execute_result"
    }
   ],
   "source": [
    "arr"
   ]
  },
  {
   "cell_type": "markdown",
   "id": "5b6d1806",
   "metadata": {},
   "source": [
    "# Slicing"
   ]
  },
  {
   "cell_type": "code",
   "execution_count": 15,
   "id": "1302df0a",
   "metadata": {},
   "outputs": [
    {
     "data": {
      "text/plain": [
       "6"
      ]
     },
     "execution_count": 15,
     "metadata": {},
     "output_type": "execute_result"
    }
   ],
   "source": [
    "# slicing is same as list slicing\n",
    "arr[2,1]"
   ]
  },
  {
   "cell_type": "markdown",
   "id": "249dd792",
   "metadata": {},
   "source": [
    "# Linspace"
   ]
  },
  {
   "cell_type": "code",
   "execution_count": 20,
   "id": "5631feef",
   "metadata": {},
   "outputs": [],
   "source": [
    "# 3 parameters range 2 to 10 both including, take 5 values\n",
    "lin = np.linspace(2,10,5)"
   ]
  },
  {
   "cell_type": "code",
   "execution_count": 21,
   "id": "4f0a3ded",
   "metadata": {},
   "outputs": [
    {
     "data": {
      "text/plain": [
       "array([ 2.,  4.,  6.,  8., 10.])"
      ]
     },
     "execution_count": 21,
     "metadata": {},
     "output_type": "execute_result"
    }
   ],
   "source": [
    "lin"
   ]
  },
  {
   "cell_type": "markdown",
   "id": "2b2003a7",
   "metadata": {},
   "source": [
    "# min, max and sum"
   ]
  },
  {
   "cell_type": "code",
   "execution_count": 23,
   "id": "a71619ce",
   "metadata": {},
   "outputs": [
    {
     "data": {
      "text/plain": [
       "1"
      ]
     },
     "execution_count": 23,
     "metadata": {},
     "output_type": "execute_result"
    }
   ],
   "source": [
    "arr.min()"
   ]
  },
  {
   "cell_type": "code",
   "execution_count": 24,
   "id": "3c6aa557",
   "metadata": {},
   "outputs": [
    {
     "data": {
      "text/plain": [
       "6"
      ]
     },
     "execution_count": 24,
     "metadata": {},
     "output_type": "execute_result"
    }
   ],
   "source": [
    "arr.max()"
   ]
  },
  {
   "cell_type": "code",
   "execution_count": 25,
   "id": "10ae71e3",
   "metadata": {},
   "outputs": [
    {
     "data": {
      "text/plain": [
       "21"
      ]
     },
     "execution_count": 25,
     "metadata": {},
     "output_type": "execute_result"
    }
   ],
   "source": [
    "arr.sum()"
   ]
  },
  {
   "cell_type": "markdown",
   "id": "802e5431",
   "metadata": {},
   "source": [
    "# Array axis"
   ]
  },
  {
   "cell_type": "code",
   "execution_count": 27,
   "id": "4b72b59d",
   "metadata": {},
   "outputs": [
    {
     "data": {
      "text/plain": [
       "array([1, 2])"
      ]
     },
     "execution_count": 27,
     "metadata": {},
     "output_type": "execute_result"
    }
   ],
   "source": [
    "# axis = 0 means rows.\n",
    "# arr.min(axis = 0 ) means minumum row among all rows\n",
    "arr.min(axis = 0)"
   ]
  },
  {
   "cell_type": "code",
   "execution_count": 30,
   "id": "002f3592",
   "metadata": {},
   "outputs": [
    {
     "data": {
      "text/plain": [
       "array([1, 3, 5])"
      ]
     },
     "execution_count": 30,
     "metadata": {},
     "output_type": "execute_result"
    }
   ],
   "source": [
    "# arr.min(axis = 1) means minimum among all columns\n",
    "arr.min(axis = 1)"
   ]
  },
  {
   "cell_type": "markdown",
   "id": "7a62398d",
   "metadata": {},
   "source": [
    "# Square root and standard deviation"
   ]
  },
  {
   "cell_type": "code",
   "execution_count": 31,
   "id": "a836df38",
   "metadata": {},
   "outputs": [
    {
     "data": {
      "text/plain": [
       "array([[1.        , 1.41421356],\n",
       "       [1.73205081, 2.        ],\n",
       "       [2.23606798, 2.44948974]])"
      ]
     },
     "execution_count": 31,
     "metadata": {},
     "output_type": "execute_result"
    }
   ],
   "source": [
    "np.sqrt(arr)"
   ]
  },
  {
   "cell_type": "code",
   "execution_count": 32,
   "id": "d2351fd0",
   "metadata": {},
   "outputs": [
    {
     "data": {
      "text/plain": [
       "1.707825127659933"
      ]
     },
     "execution_count": 32,
     "metadata": {},
     "output_type": "execute_result"
    }
   ],
   "source": [
    "np.std(arr)"
   ]
  },
  {
   "cell_type": "markdown",
   "id": "d555eebf",
   "metadata": {},
   "source": [
    "# Array stacking"
   ]
  },
  {
   "cell_type": "code",
   "execution_count": 33,
   "id": "ae93c098",
   "metadata": {},
   "outputs": [],
   "source": [
    "# numpy provides horizontal and vertical stacking\n",
    "a = np.array([[1,2,30],[10,15,4]])  \n",
    "b = np.array([[1,2,3],[12, 19, 29]])  "
   ]
  },
  {
   "cell_type": "code",
   "execution_count": 35,
   "id": "4de541ae",
   "metadata": {},
   "outputs": [
    {
     "data": {
      "text/plain": [
       "array([[ 1,  2, 30],\n",
       "       [10, 15,  4],\n",
       "       [ 1,  2,  3],\n",
       "       [12, 19, 29]])"
      ]
     },
     "execution_count": 35,
     "metadata": {},
     "output_type": "execute_result"
    }
   ],
   "source": [
    "np.vstack((a,b))"
   ]
  },
  {
   "cell_type": "code",
   "execution_count": 36,
   "id": "0681c0f4",
   "metadata": {},
   "outputs": [
    {
     "data": {
      "text/plain": [
       "array([[ 1,  2, 30,  1,  2,  3],\n",
       "       [10, 15,  4, 12, 19, 29]])"
      ]
     },
     "execution_count": 36,
     "metadata": {},
     "output_type": "execute_result"
    }
   ],
   "source": [
    "np.hstack((a,b))"
   ]
  },
  {
   "cell_type": "markdown",
   "id": "dede64e5",
   "metadata": {},
   "source": [
    "# Array creation"
   ]
  },
  {
   "cell_type": "code",
   "execution_count": 42,
   "id": "b26ee887",
   "metadata": {},
   "outputs": [],
   "source": [
    "# all zeros\n",
    "zero = np.zeros((3,2), dtype = int)"
   ]
  },
  {
   "cell_type": "code",
   "execution_count": 43,
   "id": "eac88ce2",
   "metadata": {},
   "outputs": [
    {
     "data": {
      "text/plain": [
       "array([[0, 0],\n",
       "       [0, 0],\n",
       "       [0, 0]])"
      ]
     },
     "execution_count": 43,
     "metadata": {},
     "output_type": "execute_result"
    }
   ],
   "source": [
    "zero"
   ]
  },
  {
   "cell_type": "code",
   "execution_count": 124,
   "id": "8e6a0378",
   "metadata": {},
   "outputs": [],
   "source": [
    "z = np.zeros(6)"
   ]
  },
  {
   "cell_type": "code",
   "execution_count": 125,
   "id": "793d1db3",
   "metadata": {},
   "outputs": [
    {
     "data": {
      "text/plain": [
       "array([0., 0., 0., 0., 0., 0.])"
      ]
     },
     "execution_count": 125,
     "metadata": {},
     "output_type": "execute_result"
    }
   ],
   "source": [
    "z"
   ]
  },
  {
   "cell_type": "code",
   "execution_count": 44,
   "id": "e2d24b0e",
   "metadata": {},
   "outputs": [],
   "source": [
    "# all ones\n",
    "one = np.ones((3,2),dtype = float)"
   ]
  },
  {
   "cell_type": "code",
   "execution_count": 45,
   "id": "9fa95f2f",
   "metadata": {},
   "outputs": [
    {
     "data": {
      "text/plain": [
       "array([[1., 1.],\n",
       "       [1., 1.],\n",
       "       [1., 1.]])"
      ]
     },
     "execution_count": 45,
     "metadata": {},
     "output_type": "execute_result"
    }
   ],
   "source": [
    "one"
   ]
  },
  {
   "cell_type": "markdown",
   "id": "4d20a5bf",
   "metadata": {},
   "source": [
    "# Numpy array with range"
   ]
  },
  {
   "cell_type": "code",
   "execution_count": 61,
   "id": "1228891d",
   "metadata": {},
   "outputs": [],
   "source": [
    "# arange(start,stop,step,dtype)\n",
    "arr2 = np.arange(2,10,0.5,float)"
   ]
  },
  {
   "cell_type": "code",
   "execution_count": 62,
   "id": "aefe4712",
   "metadata": {},
   "outputs": [
    {
     "data": {
      "text/plain": [
       "array([2. , 2.5, 3. , 3.5, 4. , 4.5, 5. , 5.5, 6. , 6.5, 7. , 7.5, 8. ,\n",
       "       8.5, 9. , 9.5])"
      ]
     },
     "execution_count": 62,
     "metadata": {},
     "output_type": "execute_result"
    }
   ],
   "source": [
    "arr2"
   ]
  },
  {
   "cell_type": "markdown",
   "id": "10313b5c",
   "metadata": {},
   "source": [
    "# Transpose"
   ]
  },
  {
   "cell_type": "code",
   "execution_count": 63,
   "id": "392b4999",
   "metadata": {},
   "outputs": [],
   "source": [
    "transpose = arr2.T"
   ]
  },
  {
   "cell_type": "code",
   "execution_count": 64,
   "id": "def32ef4",
   "metadata": {},
   "outputs": [
    {
     "data": {
      "text/plain": [
       "array([2. , 2.5, 3. , 3.5, 4. , 4.5, 5. , 5.5, 6. , 6.5, 7. , 7.5, 8. ,\n",
       "       8.5, 9. , 9.5])"
      ]
     },
     "execution_count": 64,
     "metadata": {},
     "output_type": "execute_result"
    }
   ],
   "source": [
    "transpose"
   ]
  },
  {
   "cell_type": "markdown",
   "id": "1ab2c327",
   "metadata": {},
   "source": [
    "# Bitwise operations"
   ]
  },
  {
   "cell_type": "code",
   "execution_count": 65,
   "id": "c05660bf",
   "metadata": {},
   "outputs": [],
   "source": [
    "a = 10  \n",
    "b = 12  "
   ]
  },
  {
   "cell_type": "code",
   "execution_count": 66,
   "id": "a319244b",
   "metadata": {},
   "outputs": [
    {
     "data": {
      "text/plain": [
       "'0b1010'"
      ]
     },
     "execution_count": 66,
     "metadata": {},
     "output_type": "execute_result"
    }
   ],
   "source": [
    "# binary representation\n",
    "bin(a)"
   ]
  },
  {
   "cell_type": "code",
   "execution_count": 67,
   "id": "c67f2062",
   "metadata": {},
   "outputs": [
    {
     "data": {
      "text/plain": [
       "8"
      ]
     },
     "execution_count": 67,
     "metadata": {},
     "output_type": "execute_result"
    }
   ],
   "source": [
    "# bitwise and\n",
    "np.bitwise_and(a,b)"
   ]
  },
  {
   "cell_type": "code",
   "execution_count": 69,
   "id": "eba5024b",
   "metadata": {},
   "outputs": [
    {
     "data": {
      "text/plain": [
       "12"
      ]
     },
     "execution_count": 69,
     "metadata": {},
     "output_type": "execute_result"
    }
   ],
   "source": [
    "# bitwise or\n",
    "# either value or variable is passed\n",
    "np.bitwise_or(12,4)"
   ]
  },
  {
   "cell_type": "code",
   "execution_count": 71,
   "id": "bd77e88e",
   "metadata": {},
   "outputs": [
    {
     "data": {
      "text/plain": [
       "-11"
      ]
     },
     "execution_count": 71,
     "metadata": {},
     "output_type": "execute_result"
    }
   ],
   "source": [
    "# Invert operation\n",
    "# 2`s compliment\n",
    "np.invert(a)"
   ]
  },
  {
   "cell_type": "markdown",
   "id": "977c8d8b",
   "metadata": {},
   "source": [
    "# Numpy mathematical funtions"
   ]
  },
  {
   "cell_type": "code",
   "execution_count": 74,
   "id": "702d7070",
   "metadata": {},
   "outputs": [
    {
     "data": {
      "text/plain": [
       "array([[1, 2],\n",
       "       [3, 4],\n",
       "       [5, 6]])"
      ]
     },
     "execution_count": 74,
     "metadata": {},
     "output_type": "execute_result"
    }
   ],
   "source": [
    "# np.around(num,decimal) num is original number and decimal is the number of places\n",
    "np.around(arr,2) # input must be array"
   ]
  },
  {
   "cell_type": "code",
   "execution_count": 75,
   "id": "fac5acff",
   "metadata": {},
   "outputs": [
    {
     "data": {
      "text/plain": [
       "array([[1., 2.],\n",
       "       [3., 4.],\n",
       "       [5., 6.]])"
      ]
     },
     "execution_count": 75,
     "metadata": {},
     "output_type": "execute_result"
    }
   ],
   "source": [
    "# floor function\n",
    "np.floor(arr)"
   ]
  },
  {
   "cell_type": "code",
   "execution_count": 77,
   "id": "bf0fa46c",
   "metadata": {},
   "outputs": [
    {
     "data": {
      "text/plain": [
       "array([[1., 2.],\n",
       "       [3., 4.],\n",
       "       [5., 6.]])"
      ]
     },
     "execution_count": 77,
     "metadata": {},
     "output_type": "execute_result"
    }
   ],
   "source": [
    "# ceil function\n",
    "np.ceil(arr)"
   ]
  },
  {
   "cell_type": "markdown",
   "id": "dcbcd39f",
   "metadata": {},
   "source": [
    "# Sort"
   ]
  },
  {
   "cell_type": "code",
   "execution_count": 79,
   "id": "5fa7edca",
   "metadata": {},
   "outputs": [
    {
     "data": {
      "text/plain": [
       "array([[ 2,  3, 10],\n",
       "       [ 4,  5,  6],\n",
       "       [ 7,  8,  9]])"
      ]
     },
     "execution_count": 79,
     "metadata": {},
     "output_type": "execute_result"
    }
   ],
   "source": [
    "# different sorting are there in numpy like mergesort(), quicksort() and heapsort()\n",
    "# np.sort(array,axis,kind,order)\n",
    "# kind means which algo. default is quick sort\n",
    "# axis = 0 is row\n",
    "a = np.array([[10,2,3],[4,5,6],[7,8,9]])\n",
    "np.sort(a)# default is column"
   ]
  },
  {
   "cell_type": "code",
   "execution_count": 80,
   "id": "02726ff9",
   "metadata": {},
   "outputs": [
    {
     "data": {
      "text/plain": [
       "array([[ 4,  2,  3],\n",
       "       [ 7,  5,  6],\n",
       "       [10,  8,  9]])"
      ]
     },
     "execution_count": 80,
     "metadata": {},
     "output_type": "execute_result"
    }
   ],
   "source": [
    "np.sort(a,0)"
   ]
  },
  {
   "cell_type": "markdown",
   "id": "8720a794",
   "metadata": {},
   "source": [
    "# Array"
   ]
  },
  {
   "cell_type": "code",
   "execution_count": 83,
   "id": "9d749946",
   "metadata": {},
   "outputs": [],
   "source": [
    "# create 2d array from exisiting elements\n",
    "arr=np.array([1,2.,3.],ndmin=2)  "
   ]
  },
  {
   "cell_type": "code",
   "execution_count": 84,
   "id": "c4e487ae",
   "metadata": {},
   "outputs": [
    {
     "data": {
      "text/plain": [
       "array([[1., 2., 3.]])"
      ]
     },
     "execution_count": 84,
     "metadata": {},
     "output_type": "execute_result"
    }
   ],
   "source": [
    "arr"
   ]
  },
  {
   "cell_type": "code",
   "execution_count": 89,
   "id": "8d070784",
   "metadata": {},
   "outputs": [],
   "source": [
    "arr=np.array([12,45.,3.],dtype=complex) "
   ]
  },
  {
   "cell_type": "code",
   "execution_count": 90,
   "id": "aba34ab1",
   "metadata": {},
   "outputs": [
    {
     "data": {
      "text/plain": [
       "array([12.+0.j, 45.+0.j,  3.+0.j])"
      ]
     },
     "execution_count": 90,
     "metadata": {},
     "output_type": "execute_result"
    }
   ],
   "source": [
    "arr"
   ]
  },
  {
   "cell_type": "code",
   "execution_count": 91,
   "id": "da5a2809",
   "metadata": {},
   "outputs": [],
   "source": [
    "# to create 2d array 2 square brackets each for one tuple\n",
    "arr=np.array([[1,2.,3.],[4.,5.,7]])  "
   ]
  },
  {
   "cell_type": "code",
   "execution_count": 92,
   "id": "8124e966",
   "metadata": {},
   "outputs": [
    {
     "data": {
      "text/plain": [
       "array([[1., 2., 3.],\n",
       "       [4., 5., 7.]])"
      ]
     },
     "execution_count": 92,
     "metadata": {},
     "output_type": "execute_result"
    }
   ],
   "source": [
    "arr"
   ]
  },
  {
   "cell_type": "markdown",
   "id": "cf8b2097",
   "metadata": {},
   "source": [
    "# Concat()"
   ]
  },
  {
   "cell_type": "code",
   "execution_count": 93,
   "id": "96d1bbd3",
   "metadata": {},
   "outputs": [],
   "source": [
    "x=np.array([[1,2],[3,4]])  \n",
    "y=np.array([[12,30]])  \n",
    "z=np.concatenate((x,y)) "
   ]
  },
  {
   "cell_type": "code",
   "execution_count": 94,
   "id": "a7a9ee0e",
   "metadata": {},
   "outputs": [
    {
     "data": {
      "text/plain": [
       "array([[ 1,  2],\n",
       "       [ 3,  4],\n",
       "       [12, 30]])"
      ]
     },
     "execution_count": 94,
     "metadata": {},
     "output_type": "execute_result"
    }
   ],
   "source": [
    "z"
   ]
  },
  {
   "cell_type": "code",
   "execution_count": 98,
   "id": "4bd9c643",
   "metadata": {},
   "outputs": [],
   "source": [
    "z=np.concatenate((x,y.T), axis = 1) "
   ]
  },
  {
   "cell_type": "code",
   "execution_count": 99,
   "id": "f63df4d2",
   "metadata": {},
   "outputs": [
    {
     "data": {
      "text/plain": [
       "array([[ 1,  2, 12],\n",
       "       [ 3,  4, 30]])"
      ]
     },
     "execution_count": 99,
     "metadata": {},
     "output_type": "execute_result"
    }
   ],
   "source": [
    "z"
   ]
  },
  {
   "cell_type": "code",
   "execution_count": 100,
   "id": "58f8c661",
   "metadata": {},
   "outputs": [
    {
     "data": {
      "text/plain": [
       "array([ 1,  2,  3,  4, 12, 30])"
      ]
     },
     "execution_count": 100,
     "metadata": {},
     "output_type": "execute_result"
    }
   ],
   "source": [
    "z=np.concatenate((x,y), axis=None) \n",
    "z"
   ]
  },
  {
   "cell_type": "markdown",
   "id": "9a7e5a7a",
   "metadata": {},
   "source": [
    "# Append"
   ]
  },
  {
   "cell_type": "code",
   "execution_count": 101,
   "id": "56ffb70b",
   "metadata": {},
   "outputs": [
    {
     "data": {
      "text/plain": [
       "array([10, 20, 30, 40, 50, 60, 70, 80, 90, 11, 21, 31, 42, 52, 62, 73, 83,\n",
       "       93])"
      ]
     },
     "execution_count": 101,
     "metadata": {},
     "output_type": "execute_result"
    }
   ],
   "source": [
    "a=np.array([[10, 20, 30], [40, 50, 60], [70, 80, 90]])  \n",
    "b=np.array([[11, 21, 31], [42, 52, 62], [73, 83, 93]])  \n",
    "c=np.append(a,b)\n",
    "c"
   ]
  },
  {
   "cell_type": "code",
   "execution_count": 102,
   "id": "fb4bc4c6",
   "metadata": {},
   "outputs": [
    {
     "data": {
      "text/plain": [
       "array([[10, 20, 30],\n",
       "       [40, 50, 60],\n",
       "       [70, 80, 90],\n",
       "       [11, 21, 31],\n",
       "       [42, 52, 62],\n",
       "       [73, 83, 93]])"
      ]
     },
     "execution_count": 102,
     "metadata": {},
     "output_type": "execute_result"
    }
   ],
   "source": [
    "a=np.array([[10, 20, 30], [40, 50, 60], [70, 80, 90]])  \n",
    "b=np.array([[11, 21, 31], [42, 52, 62], [73, 83, 93]])  \n",
    "c=np.append(a,b,axis=0)\n",
    "c"
   ]
  },
  {
   "cell_type": "code",
   "execution_count": 103,
   "id": "193be671",
   "metadata": {},
   "outputs": [
    {
     "data": {
      "text/plain": [
       "array([[10, 20, 30, 11, 21, 31],\n",
       "       [40, 50, 60, 42, 52, 62],\n",
       "       [70, 80, 90, 73, 83, 93]])"
      ]
     },
     "execution_count": 103,
     "metadata": {},
     "output_type": "execute_result"
    }
   ],
   "source": [
    "a=np.array([[10, 20, 30], [40, 50, 60], [70, 80, 90]])  \n",
    "b=np.array([[11, 21, 31], [42, 52, 62], [73, 83, 93]])  \n",
    "c=np.append(a,b,axis=1)\n",
    "c"
   ]
  },
  {
   "cell_type": "markdown",
   "id": "f5fa201d",
   "metadata": {},
   "source": [
    "# Reshape"
   ]
  },
  {
   "cell_type": "code",
   "execution_count": 104,
   "id": "98a098b1",
   "metadata": {},
   "outputs": [],
   "source": [
    "a = ([[10,30], [40,50],[70,80]])\n",
    "b = np.reshape(a,(2,3))"
   ]
  },
  {
   "cell_type": "code",
   "execution_count": 105,
   "id": "c8e2b591",
   "metadata": {},
   "outputs": [
    {
     "data": {
      "text/plain": [
       "array([[10, 30, 40],\n",
       "       [50, 70, 80]])"
      ]
     },
     "execution_count": 105,
     "metadata": {},
     "output_type": "execute_result"
    }
   ],
   "source": [
    "b"
   ]
  },
  {
   "cell_type": "markdown",
   "id": "a80aeda4",
   "metadata": {},
   "source": [
    "# Sum"
   ]
  },
  {
   "cell_type": "code",
   "execution_count": 108,
   "id": "6ac5e13e",
   "metadata": {},
   "outputs": [
    {
     "data": {
      "text/plain": [
       "280"
      ]
     },
     "execution_count": 108,
     "metadata": {},
     "output_type": "execute_result"
    }
   ],
   "source": [
    "b = np.sum(a)\n",
    "b"
   ]
  },
  {
   "cell_type": "code",
   "execution_count": 109,
   "id": "9be180ae",
   "metadata": {},
   "outputs": [
    {
     "data": {
      "text/plain": [
       "array([120, 160])"
      ]
     },
     "execution_count": 109,
     "metadata": {},
     "output_type": "execute_result"
    }
   ],
   "source": [
    "row = np.sum(a, axis = 0)\n",
    "row"
   ]
  },
  {
   "cell_type": "code",
   "execution_count": 111,
   "id": "09d1da68",
   "metadata": {},
   "outputs": [
    {
     "data": {
      "text/plain": [
       "array([ 40,  90, 150])"
      ]
     },
     "execution_count": 111,
     "metadata": {},
     "output_type": "execute_result"
    }
   ],
   "source": [
    "col = np.sum(a, axis = 1)\n",
    "col"
   ]
  },
  {
   "cell_type": "code",
   "execution_count": 112,
   "id": "d2a9786a",
   "metadata": {},
   "outputs": [
    {
     "data": {
      "text/plain": [
       "[[10, 30], [40, 50], [70, 80]]"
      ]
     },
     "execution_count": 112,
     "metadata": {},
     "output_type": "execute_result"
    }
   ],
   "source": [
    "a"
   ]
  },
  {
   "cell_type": "markdown",
   "id": "0f1f03d1",
   "metadata": {},
   "source": [
    "# Permutation"
   ]
  },
  {
   "cell_type": "code",
   "execution_count": 115,
   "id": "bcb985b0",
   "metadata": {},
   "outputs": [
    {
     "data": {
      "text/plain": [
       "array([ 0,  1,  2,  3,  4,  5,  6,  7,  8,  9, 10, 11, 12, 13, 14])"
      ]
     },
     "execution_count": 115,
     "metadata": {},
     "output_type": "execute_result"
    }
   ],
   "source": [
    "# 1. shuffle()\n",
    "a = np.arange(15)\n",
    "a"
   ]
  },
  {
   "cell_type": "code",
   "execution_count": 121,
   "id": "45de6f7f",
   "metadata": {},
   "outputs": [
    {
     "data": {
      "text/plain": [
       "array([ 0,  2,  5, 13,  7,  8,  1,  9,  3, 12, 10,  6, 14,  4, 11])"
      ]
     },
     "execution_count": 121,
     "metadata": {},
     "output_type": "execute_result"
    }
   ],
   "source": [
    "np.random.shuffle(a)\n",
    "a"
   ]
  },
  {
   "cell_type": "code",
   "execution_count": 122,
   "id": "e75b0bf7",
   "metadata": {},
   "outputs": [
    {
     "data": {
      "text/plain": [
       "array([ 1,  8,  4,  5,  3,  2,  6, 10,  7,  0, 11,  9])"
      ]
     },
     "execution_count": 122,
     "metadata": {},
     "output_type": "execute_result"
    }
   ],
   "source": [
    "# permutation\n",
    "a = np.random.permutation(12)\n",
    "a"
   ]
  },
  {
   "cell_type": "markdown",
   "id": "be136250",
   "metadata": {},
   "source": [
    "# Distribution"
   ]
  },
  {
   "cell_type": "code",
   "execution_count": 123,
   "id": "1dc11406",
   "metadata": {},
   "outputs": [
    {
     "data": {
      "text/plain": [
       "array([6, 5, 6, 5, 7, 7, 6, 8, 6, 8])"
      ]
     },
     "execution_count": 123,
     "metadata": {},
     "output_type": "execute_result"
    }
   ],
   "source": [
    "# binomial distribution\n",
    "# binomial(n, p[, size])\n",
    "n, p = 10, .6  \n",
    "s1= np.random.binomial(n, p, 10)  \n",
    "s1  "
   ]
  },
  {
   "cell_type": "markdown",
   "id": "30991e4b",
   "metadata": {},
   "source": [
    "# Where "
   ]
  },
  {
   "cell_type": "code",
   "execution_count": 127,
   "id": "73c71736",
   "metadata": {},
   "outputs": [
    {
     "data": {
      "text/plain": [
       "array([ 0,  3,  6,  9, 12, 15, 18, 21,  8,  9, 10, 11, 12, 13, 14])"
      ]
     },
     "execution_count": 127,
     "metadata": {},
     "output_type": "execute_result"
    }
   ],
   "source": [
    "# np.where(cond,a,b)\n",
    "# it select a function based on condition given\n",
    "# return type is array\n",
    "a = np.arange(15)\n",
    "b = np.where(a>7,a,a*3) # a>7 is condition if true a executes otherwise a*3\n",
    "b"
   ]
  },
  {
   "cell_type": "markdown",
   "id": "786de750",
   "metadata": {},
   "source": [
    "# Unique"
   ]
  },
  {
   "cell_type": "code",
   "execution_count": 128,
   "id": "024cce2b",
   "metadata": {},
   "outputs": [
    {
     "data": {
      "text/plain": [
       "array([1, 2, 3, 4, 6])"
      ]
     },
     "execution_count": 128,
     "metadata": {},
     "output_type": "execute_result"
    }
   ],
   "source": [
    "a=np.unique([1,2,3,4,3,6,2,4])  \n",
    "a  "
   ]
  },
  {
   "cell_type": "code",
   "execution_count": 129,
   "id": "8d547bec",
   "metadata": {},
   "outputs": [
    {
     "data": {
      "text/plain": [
       "array([[1, 1, 0],\n",
       "       [2, 3, 4],\n",
       "       [5, 9, 8]])"
      ]
     },
     "execution_count": 129,
     "metadata": {},
     "output_type": "execute_result"
    }
   ],
   "source": [
    "a = np.array([[1, 1, 0], [1, 1, 0], [2, 3, 4],[5, 9, 8],[2, 3, 4]])  \n",
    "a  \n",
    "b=np.unique(a, axis=0)  \n",
    "b  "
   ]
  },
  {
   "cell_type": "markdown",
   "id": "ef9c549c",
   "metadata": {},
   "source": [
    "# tolist"
   ]
  },
  {
   "cell_type": "code",
   "execution_count": 130,
   "id": "a0ac4b79",
   "metadata": {},
   "outputs": [
    {
     "data": {
      "text/plain": [
       "[1, 2]"
      ]
     },
     "execution_count": 130,
     "metadata": {},
     "output_type": "execute_result"
    }
   ],
   "source": [
    "# It simply return copy of array element as python list.\n",
    "# If we use a.tolist() for 1D array it is same as list(a), only differences is that tolist converts \n",
    "# numpy scalars to python scalars.\n",
    "a = np.uint32([1, 2])\n",
    "a_list = list(a)\n",
    "a_list"
   ]
  },
  {
   "cell_type": "code",
   "execution_count": 131,
   "id": "28eb5c9c",
   "metadata": {},
   "outputs": [
    {
     "data": {
      "text/plain": [
       "numpy.uint32"
      ]
     },
     "execution_count": 131,
     "metadata": {},
     "output_type": "execute_result"
    }
   ],
   "source": [
    "type(a_list[0])"
   ]
  },
  {
   "cell_type": "code",
   "execution_count": 132,
   "id": "90e33c6e",
   "metadata": {},
   "outputs": [
    {
     "data": {
      "text/plain": [
       "[1, 2]"
      ]
     },
     "execution_count": 132,
     "metadata": {},
     "output_type": "execute_result"
    }
   ],
   "source": [
    "a_tolist = a.tolist()\n",
    "a_tolist"
   ]
  },
  {
   "cell_type": "code",
   "execution_count": 133,
   "id": "45eece95",
   "metadata": {},
   "outputs": [
    {
     "data": {
      "text/plain": [
       "int"
      ]
     },
     "execution_count": 133,
     "metadata": {},
     "output_type": "execute_result"
    }
   ],
   "source": [
    "type(a_tolist[0])"
   ]
  },
  {
   "cell_type": "code",
   "execution_count": 134,
   "id": "105030aa",
   "metadata": {},
   "outputs": [
    {
     "data": {
      "text/plain": [
       "[array([1, 2]), array([3, 4])]"
      ]
     },
     "execution_count": 134,
     "metadata": {},
     "output_type": "execute_result"
    }
   ],
   "source": [
    "# For 2D array\n",
    "a = np.array([[1, 2], [3, 4]])\n",
    "list(a)"
   ]
  },
  {
   "cell_type": "code",
   "execution_count": 135,
   "id": "a3c2ea12",
   "metadata": {},
   "outputs": [
    {
     "data": {
      "text/plain": [
       "[[1, 2], [3, 4]]"
      ]
     },
     "execution_count": 135,
     "metadata": {},
     "output_type": "execute_result"
    }
   ],
   "source": [
    "a.tolist()"
   ]
  },
  {
   "cell_type": "markdown",
   "id": "e9e2c766",
   "metadata": {},
   "source": [
    "# Clip() function"
   ]
  },
  {
   "cell_type": "code",
   "execution_count": 136,
   "id": "df1aab3b",
   "metadata": {},
   "outputs": [
    {
     "data": {
      "text/plain": [
       "array([ 5,  5,  5,  5,  5,  5,  6,  7,  8,  9, 10, 10, 10, 10, 10])"
      ]
     },
     "execution_count": 136,
     "metadata": {},
     "output_type": "execute_result"
    }
   ],
   "source": [
    "# np.clip(a,min,max) array a if value > max then max and if value < min then min value is returned\n",
    "a = np.arange(15)\n",
    "b = np.clip(a,5,10)\n",
    "b"
   ]
  },
  {
   "cell_type": "code",
   "execution_count": 138,
   "id": "9339ada3",
   "metadata": {},
   "outputs": [
    {
     "data": {
      "text/plain": [
       "array([[ 0,  1,  2,  3,  4],\n",
       "       [ 5,  6,  7,  8,  9],\n",
       "       [10, 11, 12, 13, 14]])"
      ]
     },
     "execution_count": 138,
     "metadata": {},
     "output_type": "execute_result"
    }
   ],
   "source": [
    "a = np.reshape(a,(3,5))\n",
    "a"
   ]
  },
  {
   "cell_type": "code",
   "execution_count": 139,
   "id": "d168c3b7",
   "metadata": {},
   "outputs": [
    {
     "data": {
      "text/plain": [
       "array([[ 5,  5,  5,  5,  5],\n",
       "       [ 5,  6,  7,  8,  9],\n",
       "       [10, 10, 10, 10, 10]])"
      ]
     },
     "execution_count": 139,
     "metadata": {},
     "output_type": "execute_result"
    }
   ],
   "source": [
    "# for 2D array\n",
    "b = np.clip(a,5,10)\n",
    "b"
   ]
  },
  {
   "cell_type": "markdown",
   "id": "300bf535",
   "metadata": {},
   "source": [
    "# flatten() function"
   ]
  },
  {
   "cell_type": "code",
   "execution_count": 140,
   "id": "95a3f05c",
   "metadata": {},
   "outputs": [
    {
     "data": {
      "text/plain": [
       "array([[ 0,  1,  2],\n",
       "       [ 3,  4,  5],\n",
       "       [ 6,  7,  8],\n",
       "       [ 9, 10, 11],\n",
       "       [12, 13, 14]])"
      ]
     },
     "execution_count": 140,
     "metadata": {},
     "output_type": "execute_result"
    }
   ],
   "source": [
    "# if we want 1D array rather than multi dimensional array then np.flatten() is used\n",
    "a = np.arange(15)\n",
    "a = np.reshape(a,(5,3))\n",
    "a"
   ]
  },
  {
   "cell_type": "code",
   "execution_count": 142,
   "id": "a5d3f8ad",
   "metadata": {},
   "outputs": [
    {
     "data": {
      "text/plain": [
       "array([ 0,  1,  2,  3,  4,  5,  6,  7,  8,  9, 10, 11, 12, 13, 14])"
      ]
     },
     "execution_count": 142,
     "metadata": {},
     "output_type": "execute_result"
    }
   ],
   "source": [
    "a.flatten()"
   ]
  },
  {
   "cell_type": "markdown",
   "id": "927290c0",
   "metadata": {},
   "source": [
    "# np.meshgid()"
   ]
  },
  {
   "cell_type": "code",
   "execution_count": 145,
   "id": "2f60f9d6",
   "metadata": {},
   "outputs": [
    {
     "data": {
      "text/plain": [
       "(array([[1.  , 1.25, 1.5 , 1.75, 2.  ],\n",
       "        [1.  , 1.25, 1.5 , 1.75, 2.  ],\n",
       "        [1.  , 1.25, 1.5 , 1.75, 2.  ],\n",
       "        [1.  , 1.25, 1.5 , 1.75, 2.  ],\n",
       "        [1.  , 1.25, 1.5 , 1.75, 2.  ],\n",
       "        [1.  , 1.25, 1.5 , 1.75, 2.  ],\n",
       "        [1.  , 1.25, 1.5 , 1.75, 2.  ],\n",
       "        [1.  , 1.25, 1.5 , 1.75, 2.  ],\n",
       "        [1.  , 1.25, 1.5 , 1.75, 2.  ],\n",
       "        [1.  , 1.25, 1.5 , 1.75, 2.  ]]),\n",
       " array([[1.        , 1.        , 1.        , 1.        , 1.        ],\n",
       "        [1.11111111, 1.11111111, 1.11111111, 1.11111111, 1.11111111],\n",
       "        [1.22222222, 1.22222222, 1.22222222, 1.22222222, 1.22222222],\n",
       "        [1.33333333, 1.33333333, 1.33333333, 1.33333333, 1.33333333],\n",
       "        [1.44444444, 1.44444444, 1.44444444, 1.44444444, 1.44444444],\n",
       "        [1.55555556, 1.55555556, 1.55555556, 1.55555556, 1.55555556],\n",
       "        [1.66666667, 1.66666667, 1.66666667, 1.66666667, 1.66666667],\n",
       "        [1.77777778, 1.77777778, 1.77777778, 1.77777778, 1.77777778],\n",
       "        [1.88888889, 1.88888889, 1.88888889, 1.88888889, 1.88888889],\n",
       "        [2.        , 2.        , 2.        , 2.        , 2.        ]]))"
      ]
     },
     "execution_count": 145,
     "metadata": {},
     "output_type": "execute_result"
    }
   ],
   "source": [
    "# numpy module provide meshgrid function of 1D array\n",
    "a = np.linspace(1, 2, 5)  \n",
    "b = np.linspace(1, 2, 10)  \n",
    "mesh_a, mesh_b = np.meshgrid(a, b)\n",
    "mesh_a, mesh_b"
   ]
  },
  {
   "cell_type": "markdown",
   "id": "ca5b0cb5",
   "metadata": {},
   "source": [
    "# standard deviation"
   ]
  },
  {
   "cell_type": "code",
   "execution_count": 146,
   "id": "ae4b4777",
   "metadata": {},
   "outputs": [
    {
     "data": {
      "text/plain": [
       "14.852924796147054"
      ]
     },
     "execution_count": 146,
     "metadata": {},
     "output_type": "execute_result"
    }
   ],
   "source": [
    "a = np.array([[1,6,45,3],[8,5,32,11]])\n",
    "std = np.std(a)\n",
    "std"
   ]
  },
  {
   "cell_type": "code",
   "execution_count": null,
   "id": "d580fc27",
   "metadata": {},
   "outputs": [],
   "source": []
  }
 ],
 "metadata": {
  "kernelspec": {
   "display_name": "Python 3 (ipykernel)",
   "language": "python",
   "name": "python3"
  },
  "language_info": {
   "codemirror_mode": {
    "name": "ipython",
    "version": 3
   },
   "file_extension": ".py",
   "mimetype": "text/x-python",
   "name": "python",
   "nbconvert_exporter": "python",
   "pygments_lexer": "ipython3",
   "version": "3.9.7"
  }
 },
 "nbformat": 4,
 "nbformat_minor": 5
}
